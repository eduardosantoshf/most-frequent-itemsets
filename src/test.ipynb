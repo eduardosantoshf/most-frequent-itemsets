{
 "cells": [
  {
   "cell_type": "code",
   "execution_count": 1,
   "metadata": {},
   "outputs": [
    {
     "name": "stderr",
     "output_type": "stream",
     "text": [
      "Setting default log level to \"WARN\".\n",
      "To adjust logging level use sc.setLogLevel(newLevel). For SparkR, use setLogLevel(newLevel).\n"
     ]
    },
    {
     "name": "stdout",
     "output_type": "stream",
     "text": [
      "23/03/06 15:58:33 WARN NativeCodeLoader: Unable to load native-hadoop library for your platform... using builtin-java classes where applicable\n"
     ]
    }
   ],
   "source": [
    "import pyspark\n",
    "from pyspark import SparkContext\n",
    "from pyspark.sql import SparkSession\n",
    "from pyspark import SparkConf\n",
    "from pyspark import SparkFiles\n",
    "\n",
    "\n",
    "path = \"../data/conditions_truncated.csv\"\n",
    "\n",
    "conf = SparkConf()\n",
    "conf.getAll()\n",
    "\n",
    "sc = SparkContext(appName=\"test\").getOrCreate(conf==conf)\n",
    "    \n",
    "#spark = SparkSession.builder.master(\"local[1]\").appName(\"SparkByExamples.com\").getOrCreate()\n",
    "spark = SparkSession(sc)\n",
    "sc.setLogLevel(\"ERROR\")\n",
    "\n",
    "textfile = sc.textFile(path)\n",
    "\n",
    "sc.addFile(path)\n"
   ]
  },
  {
   "cell_type": "code",
   "execution_count": 29,
   "metadata": {},
   "outputs": [
    {
     "name": "stderr",
     "output_type": "stream",
     "text": [
      "/usr/local/lib/python3.9/site-packages/pyspark/python/lib/pyspark.zip/pyspark/shuffle.py:65: UserWarning: Please install psutil to have better support with spilling\n",
      "/usr/local/lib/python3.9/site-packages/pyspark/python/lib/pyspark.zip/pyspark/shuffle.py:65: UserWarning: Please install psutil to have better support with spilling\n",
      "[Stage 36:>                                                         (0 + 2) / 2]\r"
     ]
    },
    {
     "name": "stdout",
     "output_type": "stream",
     "text": [
      "('PATIENT', ['CODE'])\n",
      "('5420ae87-24c8-4ed4-ad14-041d15aadae9', ['446096008', '284551006', '283371005', '72892002', '444814009', '195662009'])\n",
      "('90f0b8d0-3888-415f-8234-d68f7beab894', ['444814009', '72892002', '307731004', '195662009', '44465007', '10509002', '10509002', '72892002'])\n"
     ]
    },
    {
     "name": "stderr",
     "output_type": "stream",
     "text": [
      "                                                                                \r"
     ]
    }
   ],
   "source": [
    "\n",
    "\n",
    "\n",
    "def main():\n",
    "    \n",
    "    #df = spark.read.option(\"header\", True).csv(\"../data/conditions_truncated.csv\")\n",
    "    #df.printSchema()\n",
    "    #df.show(n=10, truncate=False)\n",
    "\n",
    "    \n",
    "\n",
    "    #with open(SparkFiles.get(\"conditions_truncated.csv\")) as file:\n",
    "    #    for line in file:\n",
    "    #        print(line)\n",
    "    #        break\n",
    "\n",
    "    baskets = textfile.map(lambda line: line.split(\",\")).map(lambda pair: (pair[2],[pair[4]])).reduceByKey(lambda a,b: a + b)\n",
    "\n",
    "    printable = baskets.collect()\n",
    "\n",
    "    for row in range(0,3):\n",
    "        print(printable[row])\n",
    "\n",
    "    #print(textfile)\n",
    "    \n",
    "\n",
    "if __name__ == \"__main__\":\n",
    "    main()"
   ]
  },
  {
   "cell_type": "code",
   "execution_count": null,
   "metadata": {},
   "outputs": [],
   "source": [
    "sc.stop()"
   ]
  }
 ],
 "metadata": {
  "kernelspec": {
   "display_name": "Python 3",
   "language": "python",
   "name": "python3"
  },
  "language_info": {
   "codemirror_mode": {
    "name": "ipython",
    "version": 3
   },
   "file_extension": ".py",
   "mimetype": "text/x-python",
   "name": "python",
   "nbconvert_exporter": "python",
   "pygments_lexer": "ipython3",
   "version": "3.9.10"
  },
  "orig_nbformat": 4,
  "vscode": {
   "interpreter": {
    "hash": "aee8b7b246df8f9039afb4144a1f6fd8d2ca17a180786b69acc140d282b71a49"
   }
  }
 },
 "nbformat": 4,
 "nbformat_minor": 2
}

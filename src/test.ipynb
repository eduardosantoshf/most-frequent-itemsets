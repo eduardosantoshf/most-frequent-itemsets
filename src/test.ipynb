{
 "cells": [
  {
   "cell_type": "code",
   "execution_count": 43,
   "metadata": {},
   "outputs": [
    {
     "name": "stdout",
     "output_type": "stream",
     "text": [
      "root\n",
      " |-- START: string (nullable = true)\n",
      " |-- STOP: string (nullable = true)\n",
      " |-- PATIENT: string (nullable = true)\n",
      " |-- ENCOUNTER: string (nullable = true)\n",
      " |-- CODE: string (nullable = true)\n",
      " |-- DESCRIPTION: string (nullable = true)\n",
      "\n",
      "        START        STOP                               PATIENT  \\\n",
      "0  2017-01-14  2017-03-30  09e4e8cb-29c2-4ef4-86c0-a6ff0ba25d2a   \n",
      "1  2012-09-15  2012-09-16  b0a03e8c-8d0f-4242-9548-40f4d294eba8   \n",
      "2  2018-06-17  2018-06-24  09e4e8cb-29c2-4ef4-86c0-a6ff0ba25d2a   \n",
      "3  2019-04-19  2019-09-26  09e4e8cb-29c2-4ef4-86c0-a6ff0ba25d2a   \n",
      "4  2019-04-27  2019-05-18  09e4e8cb-29c2-4ef4-86c0-a6ff0ba25d2a   \n",
      "5  2019-06-03  2019-08-02  09e4e8cb-29c2-4ef4-86c0-a6ff0ba25d2a   \n",
      "6  2014-11-09  2014-11-30  b0a03e8c-8d0f-4242-9548-40f4d294eba8   \n",
      "7  2015-01-04  2015-01-18  b0a03e8c-8d0f-4242-9548-40f4d294eba8   \n",
      "8  2015-03-26        None  b0a03e8c-8d0f-4242-9548-40f4d294eba8   \n",
      "9  2015-08-04  2015-08-14  b0a03e8c-8d0f-4242-9548-40f4d294eba8   \n",
      "\n",
      "                              ENCOUNTER       CODE  \\\n",
      "0  88e540ab-a7d7-47de-93c1-720a06f3d601   65363002   \n",
      "1  e89414dc-d0c6-478f-86c0-d08bac6ad0a2  241929008   \n",
      "2  c14325b0-f7ec-4314-bba8-dddc37f0067d  444814009   \n",
      "3  71af18ee-3157-408b-b576-e96445664c0a   65363002   \n",
      "4  411d4eae-72d1-4786-a28e-3b744cf17a47  444814009   \n",
      "5  667a94d9-6aa1-4b6f-bc38-8ec8a111d946   33737001   \n",
      "6  53431016-43c6-46be-883f-4e0eb23b6f82  444814009   \n",
      "7  fb838ab5-2805-41c0-bd6f-55340284c98e   10509002   \n",
      "8  fbc7efee-c52c-4d41-9bc9-0a7452a730c9  233678006   \n",
      "9  2c912168-e7c9-403d-aedc-429744adb6d5  195662009   \n",
      "\n",
      "                          DESCRIPTION  \n",
      "0                        Otitis media  \n",
      "1             Acute allergic reaction  \n",
      "2          Viral sinusitis (disorder)  \n",
      "3                        Otitis media  \n",
      "4          Viral sinusitis (disorder)  \n",
      "5                     Fracture of rib  \n",
      "6          Viral sinusitis (disorder)  \n",
      "7         Acute bronchitis (disorder)  \n",
      "8                    Childhood asthma  \n",
      "9  Acute viral pharyngitis (disorder)  \n"
     ]
    }
   ],
   "source": [
    "\n",
    "import pyspark\n",
    "from pyspark import SparkContext\n",
    "from pyspark.sql import SparkSession\n",
    "from pyspark import SparkConf\n",
    "\n",
    "conf = SparkConf()\n",
    "conf.getAll()\n",
    "\n",
    "#sc = SparkContext()\n",
    "#sc.stop()\n",
    "\n",
    "def main():\n",
    "    spark = SparkSession.builder.master(\"local[1]\").appName(\"SparkByExamples.com\").getOrCreate()\n",
    "\n",
    "    df = spark.read.option(\"header\", True).csv(\"../data/conditions_truncated.csv\")\n",
    "    df.printSchema()\n",
    "\n",
    "    df.show(n=10, truncate=False)\n",
    "\n",
    "if __name__ == \"__main__\":\n",
    "    main()"
   ]
  }
 ],
 "metadata": {
  "kernelspec": {
   "display_name": "Python 3",
   "language": "python",
   "name": "python3"
  },
  "language_info": {
   "codemirror_mode": {
    "name": "ipython",
    "version": 3
   },
   "file_extension": ".py",
   "mimetype": "text/x-python",
   "name": "python",
   "nbconvert_exporter": "python",
   "pygments_lexer": "ipython3",
   "version": "3.9.10"
  },
  "orig_nbformat": 4,
  "vscode": {
   "interpreter": {
    "hash": "aee8b7b246df8f9039afb4144a1f6fd8d2ca17a180786b69acc140d282b71a49"
   }
  }
 },
 "nbformat": 4,
 "nbformat_minor": 2
}
